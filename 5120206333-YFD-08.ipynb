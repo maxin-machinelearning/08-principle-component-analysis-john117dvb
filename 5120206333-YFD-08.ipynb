{
 "cells": [
  {
   "cell_type": "markdown",
   "metadata": {},
   "source": [
    "PCA算法"
   ]
  },
  {
   "cell_type": "code",
   "execution_count": 1,
   "metadata": {},
   "outputs": [
    {
     "name": "stdout",
     "output_type": "stream",
     "text": [
      "[[0.521018   0.75805698]\n",
      " [0.17513316 0.39912923]\n",
      " [0.78688245 0.20439685]\n",
      " [0.27139373 0.0682793 ]]\n"
     ]
    }
   ],
   "source": [
    "import  numpy as np \n",
    "from numpy.linalg import eig\n",
    "\n",
    "b,s =4,2\n",
    "x=np.random.rand(b,s)\n",
    "print(x)"
   ]
  },
  {
   "cell_type": "code",
   "execution_count": 2,
   "metadata": {},
   "outputs": [
    {
     "name": "stdout",
     "output_type": "stream",
     "text": [
      "[0.43860683 0.35746559]\n"
     ]
    }
   ],
   "source": [
    "u=x.mean(axis=0)\n",
    "print(u)"
   ]
  },
  {
   "cell_type": "code",
   "execution_count": 3,
   "metadata": {},
   "outputs": [
    {
     "data": {
      "text/plain": [
       "array([[ 0.08241116,  0.40059138],\n",
       "       [-0.26347368,  0.04166364],\n",
       "       [ 0.34827562, -0.15306874],\n",
       "       [-0.1672131 , -0.28918629]])"
      ]
     },
     "execution_count": 3,
     "metadata": {},
     "output_type": "execute_result"
    }
   ],
   "source": [
    "x-u"
   ]
  },
  {
   "cell_type": "code",
   "execution_count": 4,
   "metadata": {},
   "outputs": [
    {
     "name": "stdout",
     "output_type": "stream",
     "text": [
      "[[0.99496992 0.64422896]\n",
      " [0.64422896 0.78039466]]\n"
     ]
    }
   ],
   "source": [
    "#cov_mat =(x-u).T @ (x-u)\n",
    "cov_mat = x.T@x\n",
    "print(cov_mat)"
   ]
  },
  {
   "cell_type": "code",
   "execution_count": 5,
   "metadata": {},
   "outputs": [
    {
     "data": {
      "text/plain": [
       "array([1.54078381, 0.23458078])"
      ]
     },
     "execution_count": 5,
     "metadata": {},
     "output_type": "execute_result"
    }
   ],
   "source": [
    "lam,v =eig(cov_mat)\n",
    "lam"
   ]
  },
  {
   "cell_type": "code",
   "execution_count": 6,
   "metadata": {},
   "outputs": [
    {
     "name": "stdout",
     "output_type": "stream",
     "text": [
      "[0 1]\n",
      "[1.54078381 0.23458078]\n"
     ]
    }
   ],
   "source": [
    "lam_index = np.argsort(lam)[::-1]\n",
    "print(lam_index)\n",
    "print(lam[lam_index])"
   ]
  },
  {
   "cell_type": "code",
   "execution_count": 7,
   "metadata": {},
   "outputs": [
    {
     "data": {
      "text/plain": [
       "(4, 2)"
      ]
     },
     "execution_count": 7,
     "metadata": {},
     "output_type": "execute_result"
    }
   ],
   "source": [
    "lam_sorted =lam[lam_index]\n",
    "v_sorted = v[:,lam_index]\n",
    "\n",
    "a = v_sorted\n",
    "x_components =(x-u)@ (-v_sorted)\n",
    "\n",
    "x_components.shape"
   ]
  },
  {
   "cell_type": "code",
   "execution_count": 8,
   "metadata": {},
   "outputs": [
    {
     "name": "stdout",
     "output_type": "stream",
     "text": [
      "[0.86786896 0.13213104]\n"
     ]
    }
   ],
   "source": [
    "r = lam_sorted / lam.sum()\n",
    "print(r)"
   ]
  },
  {
   "cell_type": "code",
   "execution_count": 9,
   "metadata": {},
   "outputs": [
    {
     "data": {
      "text/plain": [
       "1.0"
      ]
     },
     "execution_count": 9,
     "metadata": {},
     "output_type": "execute_result"
    }
   ],
   "source": [
    "np.sum(r[:3])"
   ]
  },
  {
   "cell_type": "code",
   "execution_count": 10,
   "metadata": {},
   "outputs": [
    {
     "data": {
      "text/plain": [
       "array([[-0.32182956, -0.25237034],\n",
       "       [ 0.17409255, -0.20210399],\n",
       "       [-0.16677981,  0.34192169],\n",
       "       [ 0.31451682,  0.11255264]])"
      ]
     },
     "execution_count": 10,
     "metadata": {},
     "output_type": "execute_result"
    }
   ],
   "source": [
    "x_components[:,:3]"
   ]
  },
  {
   "cell_type": "code",
   "execution_count": 23,
   "metadata": {},
   "outputs": [
    {
     "data": {
      "text/plain": [
       "PCA(n_components=2)"
      ]
     },
     "execution_count": 23,
     "metadata": {},
     "output_type": "execute_result"
    }
   ],
   "source": [
    "from sklearn.decomposition import PCA\n",
    "pca = PCA(n_components=2)\n",
    "pca.fit(x)"
   ]
  },
  {
   "cell_type": "code",
   "execution_count": 20,
   "metadata": {},
   "outputs": [
    {
     "data": {
      "text/plain": [
       "array([[ 0.40561888, -0.05232954],\n",
       "       [-0.04627546, -0.26270291],\n",
       "       [-0.03149983,  0.37912228],\n",
       "       [-0.3278436 , -0.06408983]])"
      ]
     },
     "execution_count": 20,
     "metadata": {},
     "output_type": "execute_result"
    }
   ],
   "source": [
    "x_components_pca = pca.fit_transform(x)\n",
    "\n",
    "x_components_pca[:,:3]"
   ]
  },
  {
   "cell_type": "code",
   "execution_count": 24,
   "metadata": {},
   "outputs": [
    {
     "data": {
      "text/plain": [
       "0.16491138964193355"
      ]
     },
     "execution_count": 24,
     "metadata": {},
     "output_type": "execute_result"
    }
   ],
   "source": [
    "pca.explained_variance_.sum()"
   ]
  },
  {
   "cell_type": "markdown",
   "metadata": {},
   "source": [
    "PCA小结\n",
    "实现了-PCA算法\n",
    "    -协方差矩阵\n",
    "    -排序\n",
    "    -变换\n",
    "    -贡献率\n",
    "    -变换矩阵"
   ]
  }
 ],
 "metadata": {
  "kernelspec": {
   "display_name": "Python 3.9.13 ('base')",
   "language": "python",
   "name": "python3"
  },
  "language_info": {
   "codemirror_mode": {
    "name": "ipython",
    "version": 3
   },
   "file_extension": ".py",
   "mimetype": "text/x-python",
   "name": "python",
   "nbconvert_exporter": "python",
   "pygments_lexer": "ipython3",
   "version": "3.9.13"
  },
  "orig_nbformat": 4,
  "vscode": {
   "interpreter": {
    "hash": "a4df7a6600e22bae99e6e8f837be5af686fd7a404512ca9c2620376f38fe7d31"
   }
  }
 },
 "nbformat": 4,
 "nbformat_minor": 2
}
